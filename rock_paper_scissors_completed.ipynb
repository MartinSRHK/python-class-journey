{
 "cells": [
  {
   "cell_type": "code",
   "execution_count": 13,
   "id": "e6a4172a-c24f-4980-b1ee-c9356a9e9fb9",
   "metadata": {
    "tags": []
   },
   "outputs": [
    {
     "name": "stdin",
     "output_type": "stream",
     "text": [
      "choose your weapon!: rock\n"
     ]
    },
    {
     "name": "stdout",
     "output_type": "stream",
     "text": [
      "You chose rock . Computer chose scissors. You win this round!\n",
      "Score: Player:1 vs. Computer:0\n"
     ]
    },
    {
     "name": "stdin",
     "output_type": "stream",
     "text": [
      "choose your weapon!: rock\n"
     ]
    },
    {
     "name": "stdout",
     "output_type": "stream",
     "text": [
      "Draw! You both chose rock! Try again!\n",
      "Score: Player:1 vs. Computer:0\n"
     ]
    },
    {
     "name": "stdin",
     "output_type": "stream",
     "text": [
      "choose your weapon!: rock\n"
     ]
    },
    {
     "name": "stdout",
     "output_type": "stream",
     "text": [
      "You chose rock, computer chose paper. Computer wins this round.\n",
      "Score: Player:1 vs. Computer:1\n"
     ]
    },
    {
     "name": "stdin",
     "output_type": "stream",
     "text": [
      "choose your weapon!: rock\n"
     ]
    },
    {
     "name": "stdout",
     "output_type": "stream",
     "text": [
      "Draw! You both chose rock! Try again!\n",
      "Score: Player:1 vs. Computer:1\n"
     ]
    },
    {
     "name": "stdin",
     "output_type": "stream",
     "text": [
      "choose your weapon!: rock\n"
     ]
    },
    {
     "name": "stdout",
     "output_type": "stream",
     "text": [
      "You chose rock, computer chose paper. Computer wins this round.\n",
      "Score: Player:1 vs. Computer:2\n"
     ]
    },
    {
     "name": "stdin",
     "output_type": "stream",
     "text": [
      "choose your weapon!: rock\n"
     ]
    },
    {
     "name": "stdout",
     "output_type": "stream",
     "text": [
      "Draw! You both chose rock! Try again!\n",
      "Score: Player:1 vs. Computer:2\n"
     ]
    },
    {
     "name": "stdin",
     "output_type": "stream",
     "text": [
      "choose your weapon!: rock\n"
     ]
    },
    {
     "name": "stdout",
     "output_type": "stream",
     "text": [
      "You chose rock, computer chose paper. Computer wins this round.\n",
      "Score: Player:1 vs. Computer:3\n",
      "Computer won 3 rounds, you lose, game over!\n"
     ]
    }
   ],
   "source": [
    "#clean player input lower(), isalpha(), is in choice()\n",
    "    #if player chooses RPS, and computer choose random.choice(RPS)\n",
    "        #then score+1 player or computer\n",
    "            #if score == 3 for player or computer\n",
    "                #game over\n",
    "def RPS():\n",
    "    #game choices\n",
    "    choice = ['rock','paper','scissors']\n",
    "    #starting score = 0, first to 3 wins\n",
    "    import random\n",
    "    player_score = 0\n",
    "    computer_score = 0\n",
    "    while player_score < 3 and computer_score < 3:#condition to loop\n",
    "        #player input\n",
    "        player_input = input(\"choose your weapon!:\").lower()\n",
    "        computer_choice = random.choice(choice)\n",
    "\n",
    "        while player_input not in choice:\n",
    "            print(\"Wrong input, try again:\")\n",
    "            player_input = input(\"choose again please:\").lower()\n",
    "        while player_input in choice:\n",
    "            if player_input == 'rock' and computer_choice == 'scissors':\n",
    "                player_score += 1\n",
    "                print(\"You chose\", player_input,\". \" + \"Computer chose \" + computer_choice + \". \" + \"You win this round!\")\n",
    "                print(\"Score: Player:\" + str(player_score) + \" vs. Computer:\" + str(computer_score))\n",
    "                break\n",
    "            if player_input == 'scissors' and computer_choice == 'paper':\n",
    "                player_score += 1\n",
    "                print(\"You chose\", player_input,\". \" + \"Computer chose \" + computer_choice + \". \" + \"You win this round!\")\n",
    "                print(\"Score: Player:\" + str(player_score) + \" vs. Computer:\" + str(computer_score))\n",
    "                break\n",
    "            if player_input == 'paper' and computer_choice == 'rock':\n",
    "                player_score += 1\n",
    "                print(\"You chose\", player_input,\". \" + \"Computer chose \" + computer_choice + \". \" + \"You win this round!\")\n",
    "                print(\"Score: Player:\" + str(player_score) + \" vs. Computer:\" + str(computer_score))\n",
    "                break\n",
    "            elif player_input == computer_choice:\n",
    "                print(\"Draw! \" + \"You both chose \" + player_input + \"! Try again!\")\n",
    "                print(\"Score: Player:\" + str(player_score) + \" vs. Computer:\" + str(computer_score))\n",
    "                break\n",
    "            else:\n",
    "                computer_score += 1\n",
    "                print(\"You chose \" + player_input + \", \" + \"computer chose \" + computer_choice + \". \" + \"Computer wins this round.\") \n",
    "                print(\"Score: Player:\" + str(player_score) + \" vs. Computer:\" + str(computer_score))\n",
    "                break\n",
    "\n",
    "    if player_score == 3: #condition to end\n",
    "        print(\"You have won 3 rounds, congratulations\")\n",
    "    if computer_score == 3: #condition to end\n",
    "        print(\"Computer won 3 rounds, you lose, game over!\")\n",
    "            \n",
    "RPS()"
   ]
  },
  {
   "cell_type": "code",
   "execution_count": 12,
   "id": "4630e398-4397-4e2f-9904-668480eebdb6",
   "metadata": {
    "tags": []
   },
   "outputs": [
    {
     "name": "stdin",
     "output_type": "stream",
     "text": [
      "choose your weapon!: rock\n"
     ]
    },
    {
     "name": "stdout",
     "output_type": "stream",
     "text": [
      "You chose rock, computer chose paper. Computer wins this round.\n",
      "Score: Player:0 vs. Computer:1\n"
     ]
    },
    {
     "name": "stdin",
     "output_type": "stream",
     "text": [
      "choose your weapon!: paper\n"
     ]
    },
    {
     "name": "stdout",
     "output_type": "stream",
     "text": [
      "You chose paper, computer chose scissors. Computer wins this round.\n",
      "Score: Player:0 vs. Computer:2\n"
     ]
    },
    {
     "name": "stdin",
     "output_type": "stream",
     "text": [
      "choose your weapon!: scissors\n"
     ]
    },
    {
     "name": "stdout",
     "output_type": "stream",
     "text": [
      "You chose scissors, computer chose rock. Computer wins this round.\n",
      "Score: Player:0 vs. Computer:3\n"
     ]
    },
    {
     "name": "stdin",
     "output_type": "stream",
     "text": [
      "choose your weapon!: rock\n"
     ]
    },
    {
     "name": "stdout",
     "output_type": "stream",
     "text": [
      "Draw! You both chose rock! Try again!\n",
      "Score: Player:0 vs. Computer:3\n"
     ]
    },
    {
     "ename": "KeyboardInterrupt",
     "evalue": "Interrupted by user",
     "output_type": "error",
     "traceback": [
      "\u001b[1;31m---------------------------------------------------------------------------\u001b[0m",
      "\u001b[1;31mKeyboardInterrupt\u001b[0m                         Traceback (most recent call last)",
      "Cell \u001b[1;32mIn[12], line 1\u001b[0m\n\u001b[1;32m----> 1\u001b[0m RPS()\n",
      "Cell \u001b[1;32mIn[10], line 15\u001b[0m, in \u001b[0;36mRPS\u001b[1;34m()\u001b[0m\n\u001b[0;32m     12\u001b[0m computer_score \u001b[38;5;241m=\u001b[39m \u001b[38;5;241m0\u001b[39m\n\u001b[0;32m     13\u001b[0m \u001b[38;5;28;01mwhile\u001b[39;00m player_score \u001b[38;5;241m<\u001b[39m \u001b[38;5;241m3\u001b[39m:\u001b[38;5;66;03m#condition to loop\u001b[39;00m\n\u001b[0;32m     14\u001b[0m     \u001b[38;5;66;03m#player input\u001b[39;00m\n\u001b[1;32m---> 15\u001b[0m     player_input \u001b[38;5;241m=\u001b[39m \u001b[38;5;28minput\u001b[39m(\u001b[38;5;124m\"\u001b[39m\u001b[38;5;124mchoose your weapon!:\u001b[39m\u001b[38;5;124m\"\u001b[39m)\u001b[38;5;241m.\u001b[39mlower()\n\u001b[0;32m     16\u001b[0m     computer_choice \u001b[38;5;241m=\u001b[39m random\u001b[38;5;241m.\u001b[39mchoice(choice)\n\u001b[0;32m     18\u001b[0m     \u001b[38;5;28;01mwhile\u001b[39;00m player_input \u001b[38;5;129;01mnot\u001b[39;00m \u001b[38;5;129;01min\u001b[39;00m choice:\n",
      "File \u001b[1;32m~\\anaconda3\\Lib\\site-packages\\ipykernel\\kernelbase.py:1175\u001b[0m, in \u001b[0;36mKernel.raw_input\u001b[1;34m(self, prompt)\u001b[0m\n\u001b[0;32m   1171\u001b[0m \u001b[38;5;28;01mif\u001b[39;00m \u001b[38;5;129;01mnot\u001b[39;00m \u001b[38;5;28mself\u001b[39m\u001b[38;5;241m.\u001b[39m_allow_stdin:\n\u001b[0;32m   1172\u001b[0m     \u001b[38;5;28;01mraise\u001b[39;00m StdinNotImplementedError(\n\u001b[0;32m   1173\u001b[0m         \u001b[38;5;124m\"\u001b[39m\u001b[38;5;124mraw_input was called, but this frontend does not support input requests.\u001b[39m\u001b[38;5;124m\"\u001b[39m\n\u001b[0;32m   1174\u001b[0m     )\n\u001b[1;32m-> 1175\u001b[0m \u001b[38;5;28;01mreturn\u001b[39;00m \u001b[38;5;28mself\u001b[39m\u001b[38;5;241m.\u001b[39m_input_request(\n\u001b[0;32m   1176\u001b[0m     \u001b[38;5;28mstr\u001b[39m(prompt),\n\u001b[0;32m   1177\u001b[0m     \u001b[38;5;28mself\u001b[39m\u001b[38;5;241m.\u001b[39m_parent_ident[\u001b[38;5;124m\"\u001b[39m\u001b[38;5;124mshell\u001b[39m\u001b[38;5;124m\"\u001b[39m],\n\u001b[0;32m   1178\u001b[0m     \u001b[38;5;28mself\u001b[39m\u001b[38;5;241m.\u001b[39mget_parent(\u001b[38;5;124m\"\u001b[39m\u001b[38;5;124mshell\u001b[39m\u001b[38;5;124m\"\u001b[39m),\n\u001b[0;32m   1179\u001b[0m     password\u001b[38;5;241m=\u001b[39m\u001b[38;5;28;01mFalse\u001b[39;00m,\n\u001b[0;32m   1180\u001b[0m )\n",
      "File \u001b[1;32m~\\anaconda3\\Lib\\site-packages\\ipykernel\\kernelbase.py:1217\u001b[0m, in \u001b[0;36mKernel._input_request\u001b[1;34m(self, prompt, ident, parent, password)\u001b[0m\n\u001b[0;32m   1214\u001b[0m             \u001b[38;5;28;01mbreak\u001b[39;00m\n\u001b[0;32m   1215\u001b[0m \u001b[38;5;28;01mexcept\u001b[39;00m \u001b[38;5;167;01mKeyboardInterrupt\u001b[39;00m:\n\u001b[0;32m   1216\u001b[0m     \u001b[38;5;66;03m# re-raise KeyboardInterrupt, to truncate traceback\u001b[39;00m\n\u001b[1;32m-> 1217\u001b[0m     \u001b[38;5;28;01mraise\u001b[39;00m \u001b[38;5;167;01mKeyboardInterrupt\u001b[39;00m(\u001b[38;5;124m\"\u001b[39m\u001b[38;5;124mInterrupted by user\u001b[39m\u001b[38;5;124m\"\u001b[39m) \u001b[38;5;28;01mfrom\u001b[39;00m \u001b[38;5;28;01mNone\u001b[39;00m\n\u001b[0;32m   1218\u001b[0m \u001b[38;5;28;01mexcept\u001b[39;00m \u001b[38;5;167;01mException\u001b[39;00m:\n\u001b[0;32m   1219\u001b[0m     \u001b[38;5;28mself\u001b[39m\u001b[38;5;241m.\u001b[39mlog\u001b[38;5;241m.\u001b[39mwarning(\u001b[38;5;124m\"\u001b[39m\u001b[38;5;124mInvalid Message:\u001b[39m\u001b[38;5;124m\"\u001b[39m, exc_info\u001b[38;5;241m=\u001b[39m\u001b[38;5;28;01mTrue\u001b[39;00m)\n",
      "\u001b[1;31mKeyboardInterrupt\u001b[0m: Interrupted by user"
     ]
    }
   ],
   "source": [
    "RPS()"
   ]
  },
  {
   "cell_type": "code",
   "execution_count": null,
   "id": "2b8665d7-24c8-495a-ab26-db499c537f53",
   "metadata": {},
   "outputs": [],
   "source": []
  }
 ],
 "metadata": {
  "kernelspec": {
   "display_name": "Python 3 (ipykernel)",
   "language": "python",
   "name": "python3"
  },
  "language_info": {
   "codemirror_mode": {
    "name": "ipython",
    "version": 3
   },
   "file_extension": ".py",
   "mimetype": "text/x-python",
   "name": "python",
   "nbconvert_exporter": "python",
   "pygments_lexer": "ipython3",
   "version": "3.11.4"
  }
 },
 "nbformat": 4,
 "nbformat_minor": 5
}
